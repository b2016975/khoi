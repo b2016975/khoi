{
  "cells": [
    {
      "cell_type": "markdown",
      "metadata": {
        "id": "view-in-github",
        "colab_type": "text"
      },
      "source": [
        "<a href=\"https://colab.research.google.com/github/b2016975/khoi/blob/main/NFA.ipynb\" target=\"_parent\"><img src=\"https://colab.research.google.com/assets/colab-badge.svg\" alt=\"Open In Colab\"/></a>"
      ]
    },
    {
      "cell_type": "code",
      "source": [
        "class NFA(object):\n",
        "    def __init__(self, states, alphabet, transition_function, start_state, accept_states, current_states):\n",
        "        self.states = states\n",
        "        self.alphabet = alphabet\n",
        "        self.transition_function = transition_function\n",
        "        self.start_state = start_state\n",
        "        self.accept_states = accept_states\n",
        "        self.current_states = current_states\n",
        "        return\n",
        "\n",
        "    def transition_to_state_with_input(self, input_value):\n",
        "        new_states = set()\n",
        "        for state in self.current_states:\n",
        "            if (state, input_value) in self.transition_function.keys():\n",
        "                new_states = new_states.union(self.transition_function[(state, input_value)])\n",
        "        self.current_states = new_states\n",
        "        return\n",
        "\n",
        "    def in_accept_state(self):\n",
        "        return bool(self.current_states.intersection(self.accept_states))\n",
        "\n",
        "    def go_to_initial_state(self):\n",
        "        self.current_states = set([self.start_state])\n",
        "        return\n",
        "\n",
        "    def run_with_input_list(self, input_list):\n",
        "        self.go_to_initial_state()\n",
        "        for inp in input_list:\n",
        "            self.transition_to_state_with_input(inp)\n",
        "            continue\n",
        "        return self.in_accept_state()"
      ],
      "metadata": {
        "id": "0WhdZaFOZ87N"
      },
      "execution_count": 1,
      "outputs": []
    },
    {
      "cell_type": "markdown",
      "source": [
        "Các phương thức của lớp NFA tương tự như lớp DFA, nhưng hàm \n",
        "transition_to_state_with_input\n",
        " đã được thay đổi để trả về một tập các trạng thái mới có thể đạt được từ các trạng thái hiện tại dựa trên ký tự đầu vào.\n",
        "\n",
        "Để kiểm tra xem một chuỗi có thuộc ngôn ngữ được sinh bởi NFA hay không, ta chỉ cần sử dụng phương thức \n",
        "run_with_input_list\n",
        " của lớp NFA.\n"
      ],
      "metadata": {
        "id": "2IWDSkPzaILs"
      }
    },
    {
      "cell_type": "code",
      "source": [
        "# Định nghĩa NFA\n",
        "states = set(['q0', 'q1', 'q2'])\n",
        "alphabet = set(['0', '1'])\n",
        "transition_function = {\n",
        "    ('q0', '0'): set(['q0', 'q3']),\n",
        "    ('q0', '1'): set(['q0', 'q1']),\n",
        "    ('q1', '1'): set(['q2']),\n",
        "    ('q2', '0'): set(['q2']),\n",
        "    ('q2', '1'): set(['q2']),\n",
        "    ('q3', '0'): set(['q4']),\n",
        "    ('q4', '0'): set(['q4']),\n",
        "    ('q4', '1'): set(['q4'])\n",
        "}\n",
        "start_state = 'q0'\n",
        "accept_states = set(['q2','q4'])\n",
        "current_states = set([start_state])\n",
        "nfa = NFA(states, alphabet, transition_function, start_state, accept_states, current_states)\n",
        "\n",
        "# Kiểm tra chuỗi \"0110\" có thuộc ngôn ngữ được sinh bởi NFA hay không\n",
        "input_list = list(\"01001\")\n",
        "result = nfa.run_with_input_list(input_list)\n",
        "print(result)  # True"
      ],
      "metadata": {
        "id": "iAVmqpBGaMGB",
        "outputId": "408bef4c-a41e-487d-b948-c61fbcf80d7b",
        "colab": {
          "base_uri": "https://localhost:8080/"
        }
      },
      "execution_count": 3,
      "outputs": [
        {
          "output_type": "stream",
          "name": "stdout",
          "text": [
            "True\n"
          ]
        }
      ]
    }
  ],
  "metadata": {
    "colab": {
      "name": "Welcome To Colaboratory",
      "toc_visible": true,
      "provenance": [],
      "include_colab_link": true
    },
    "kernelspec": {
      "display_name": "Python 3",
      "name": "python3"
    }
  },
  "nbformat": 4,
  "nbformat_minor": 0
}